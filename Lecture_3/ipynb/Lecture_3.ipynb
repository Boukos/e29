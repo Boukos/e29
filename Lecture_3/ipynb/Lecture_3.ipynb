{
 "cells": [
  {
   "cell_type": "markdown",
   "metadata": {
    "slideshow": {
     "slide_type": "slide"
    }
   },
   "source": [
    "<center><img style=\"align: center;\"  src=\"https://github.com/sunworshipper/e29/blob/master/Lecture_1/l1_intro.jpeg?raw=true\"> </center>"
   ]
  },
  {
   "cell_type": "markdown",
   "metadata": {
    "slideshow": {
     "slide_type": "slide"
    }
   },
   "source": [
    "<h2 class = \"red\"> Lecture 3 </h2>\n",
    "<h3 class = \"blue\"> Numpy Part 2</h3>\n",
    "#### Nenad Svrzikapa\n",
    "#### Harvard University\n",
    "#### Python for Data Science\n",
    "#### CSCI E-29"
   ]
  },
  {
   "cell_type": "markdown",
   "metadata": {
    "slideshow": {
     "slide_type": "slide"
    }
   },
   "source": [
    "<center><img style=\"align: center;\"  src=\"https://github.com/sunworshipper/e29/blob/master/Lecture_1/2018_e29_staff.jpeg?raw=true\"> </center>"
   ]
  },
  {
   "cell_type": "markdown",
   "metadata": {
    "slideshow": {
     "slide_type": "slide"
    }
   },
   "source": [
    "<center><img style=\"align: center;\"  src=\"https://github.com/sunworshipper/e29/blob/master/Lecture_3/images/trojanrabbit.png?raw=true\" width=\"500\" height=\"600\"> </center>"
   ]
  },
  {
   "cell_type": "markdown",
   "metadata": {
    "slideshow": {
     "slide_type": "slide"
    }
   },
   "source": [
    "## Section\n",
    "<p class=\"grey\"> 12:00 pm EST via ZOOM </p>\n",
    "<hr class=\"red\">\n",
    "* Next section is led by Alan Xie\n",
    "* URL to be shared\n",
    "* Sections are online only and they are recorded\n"
   ]
  },
  {
   "cell_type": "markdown",
   "metadata": {
    "slideshow": {
     "slide_type": "slide"
    }
   },
   "source": [
    "## TF Assignment \n",
    "<p class=\"grey\"> Your TF will give you valuable input on your solutions! </p>\n",
    "<hr class=\"red\">\n",
    "* Your TF Assignments should be posted on Piazza\n",
    "* Don't reach out to TFs for questions that may benefit the whole class\n",
    "* Those questions belong to Piazza"
   ]
  },
  {
   "cell_type": "markdown",
   "metadata": {
    "slideshow": {
     "slide_type": "slide"
    }
   },
   "source": [
    "### Piazza\n",
    "<p class=\"grey\"> QUESTIONS, PROBLEMS, SOLUTIONS, LEARNING, AWESOME  </p>\n",
    "<hr class=\"red\">\n",
    "* <span class = \"yellow\">Your first, last name by midnight.</span>\n",
    "* Use the Code button when pasting code\n",
    "* New tags: events, jobs\n",
    "* Average response time 9 minutes\n",
    "* Read before you ask\n",
    "* Try to figure it out and search before you post\n",
    "* 6 Staff respond more than 85 students (let's work to change this) 85 instructor / 58 student responses"
   ]
  },
  {
   "cell_type": "markdown",
   "metadata": {
    "slideshow": {
     "slide_type": "slide"
    }
   },
   "source": [
    "### PSETS\n",
    "<p class=\"grey\"> Important notes!  </p>\n",
    "<hr class=\"red\">\n",
    "* <span class = \"yellow\">Please do not delay!</span>\n",
    "* Ask questions on Piazza, we are here to help\n",
    "* Give yourself enough time to get all the answers you need on Piazza\n",
    "* Time commitment "
   ]
  },
  {
   "cell_type": "markdown",
   "metadata": {
    "slideshow": {
     "slide_type": "slide"
    }
   },
   "source": [
    "### QUIZ 1\n",
    "<p class=\"grey\"> In class Only!  </p>\n",
    "<hr class=\"red\">\n",
    "* <span class = \"yellow\">Closed book, closed notes, no internet!</span>\n",
    "* You may need a small piece of paper and pen (but not required)\n",
    "* Students who take it on their electronic device will get the score right away\n",
    "* Paper version students will get their results when we grade them.\n",
    "* The quiz is timed so plan accordingly\n",
    "* 20 minutes for 15 questions\n",
    "* Read carefully"
   ]
  },
  {
   "cell_type": "markdown",
   "metadata": {
    "slideshow": {
     "slide_type": "slide"
    }
   },
   "source": [
    "### Broadcasting\n",
    "<p class=\"grey\"> The Really Confusing Guide To Broadcasting </p>\n",
    "<hr class=\"red\">\n",
    "1. If the two arrays differ in dimensions the one with fewer dimensions is padded with 1 from the left\n",
    "2. If the shape of the two arrays does not match in any dimension the array with shape = 1 in that dimension gets stretched\n",
    "3. If in any dimension the dimension sizes dissagree and neither is equal to 1 (means it can be stretched) then an error is raised\n"
   ]
  },
  {
   "cell_type": "markdown",
   "metadata": {
    "slideshow": {
     "slide_type": "slide"
    }
   },
   "source": [
    "<center><img style=\"align: center;\"  src=\"https://github.com/sunworshipper/e29/blob/master/Lecture_3/images/broadcasting.001.jpeg?raw=true\"> </center>"
   ]
  },
  {
   "cell_type": "code",
   "execution_count": 25,
   "metadata": {
    "slideshow": {
     "slide_type": "slide"
    }
   },
   "outputs": [
    {
     "name": "stdout",
     "output_type": "stream",
     "text": [
      "[[1 2 3]\n",
      " [4 5 6]\n",
      " [7 8 9]]\n",
      "[[  1   1   1]\n",
      " [ 10  10  10]\n",
      " [100 100 100]]\n",
      "[[  2   3   4]\n",
      " [ 14  15  16]\n",
      " [107 108 109]]\n"
     ]
    }
   ],
   "source": [
    "#Remember we can reshape as we create a new array\n",
    "a = np.arange(1,10).reshape(3,3)\n",
    "b = np.array([[1]*3,[10]*3,[100]*3])\n",
    "print (a)\n",
    "print (b)\n",
    "print (a+b)"
   ]
  },
  {
   "cell_type": "markdown",
   "metadata": {
    "slideshow": {
     "slide_type": "slide"
    }
   },
   "source": [
    "<center><img style=\"align: center;\"  src=\"https://github.com/sunworshipper/e29/blob/master/Lecture_3/images/broadcasting.002.jpeg?raw=true\"> </center>"
   ]
  },
  {
   "cell_type": "code",
   "execution_count": 256,
   "metadata": {},
   "outputs": [
    {
     "name": "stdout",
     "output_type": "stream",
     "text": [
      "This is a\n",
      "[[1 2 3]\n",
      " [4 5 6]\n",
      " [7 8 9]]\n",
      "This is b\n",
      "[  1  10 100]\n",
      "This is a + b\n",
      "[[  2  12 103]\n",
      " [  5  15 106]\n",
      " [  8  18 109]]\n"
     ]
    }
   ],
   "source": [
    "#Remember we can reshape as we create a new array\n",
    "a = np.arange(1,10).reshape(3,3)\n",
    "b = np.array([1,10,100])\n",
    "print (\"This is a\")\n",
    "print (a)\n",
    "print (\"This is b\")\n",
    "print (b)\n",
    "print (\"This is a + b\")\n",
    "print (a+b)"
   ]
  },
  {
   "cell_type": "markdown",
   "metadata": {
    "slideshow": {
     "slide_type": "slide"
    }
   },
   "source": [
    "<center><img style=\"align: center;\"  src=\"https://github.com/sunworshipper/e29/blob/master/Lecture_3/images/broadcasting.003.jpeg?raw=true\"> </center>"
   ]
  },
  {
   "cell_type": "code",
   "execution_count": 261,
   "metadata": {
    "slideshow": {
     "slide_type": "slide"
    }
   },
   "outputs": [
    {
     "name": "stdout",
     "output_type": "stream",
     "text": [
      "[[1 1 1]\n",
      " [4 4 4]\n",
      " [7 7 7]]\n",
      "[  1  10 100]\n",
      "This is a + b\n",
      "[[  2  11 101]\n",
      " [  5  14 104]\n",
      " [  8  17 107]]\n"
     ]
    }
   ],
   "source": [
    "a = np.array ([[1,1,1],[4,4,4],[7,7,7]])\n",
    "b = np.array([1,10,100])\n",
    "print (a)\n",
    "print (b)\n",
    "print (\"This is a + b\")\n",
    "print (a+b)\n"
   ]
  },
  {
   "cell_type": "markdown",
   "metadata": {
    "slideshow": {
     "slide_type": "slide"
    }
   },
   "source": [
    "<center><img style=\"align: center;\"  src=\"https://github.com/sunworshipper/e29/blob/master/Lecture_3/images/broadcasting.004.jpeg?raw=true\"> </center>"
   ]
  },
  {
   "cell_type": "code",
   "execution_count": 35,
   "metadata": {
    "slideshow": {
     "slide_type": "slide"
    }
   },
   "outputs": [
    {
     "name": "stdout",
     "output_type": "stream",
     "text": [
      "The shape of a is:  (2, 3, 3)\n",
      "The shape of b is:  (1, 3)\n",
      "a has  3 dimensions\n",
      "b has  2 dimensions\n",
      "The first rule of broadcasting suggest to left-pad b with 1 to get (1,1,3)\n"
     ]
    }
   ],
   "source": [
    "import numpy as np\n",
    "a = np.ones([2,3,3],dtype ='int64')\n",
    "b = np.full((1,3),2)\n",
    "print (\"The shape of a is: \",a.shape)\n",
    "print (\"The shape of b is: \",b.shape)\n",
    "print (\"a has \",a.ndim, \"dimensions\")\n",
    "print (\"b has \",b.ndim, \"dimensions\")\n",
    "print (\"The first rule of broadcasting suggest to left-pad b with 1 to get (1,1,3)\")\n"
   ]
  },
  {
   "cell_type": "markdown",
   "metadata": {
    "slideshow": {
     "slide_type": "slide"
    }
   },
   "source": [
    "<center><img style=\"align: center;\"  src=\"https://github.com/sunworshipper/e29/blob/master/Lecture_3/images/broadcasting.005.jpeg?raw=true\"> </center>"
   ]
  },
  {
   "cell_type": "markdown",
   "metadata": {
    "slideshow": {
     "slide_type": "slide"
    }
   },
   "source": [
    "<center><img style=\"align: center;\"  src=\"https://github.com/sunworshipper/e29/blob/master/Lecture_3/images/broadcasting.006.jpeg?raw=true\"> </center>"
   ]
  },
  {
   "cell_type": "markdown",
   "metadata": {
    "slideshow": {
     "slide_type": "slide"
    }
   },
   "source": [
    "<center><img style=\"align: center;\"  src=\"https://github.com/sunworshipper/e29/blob/master/Lecture_3/images/broadcasting.007.jpeg?raw=true\"> </center>"
   ]
  },
  {
   "cell_type": "markdown",
   "metadata": {
    "slideshow": {
     "slide_type": "slide"
    }
   },
   "source": [
    "<center><img style=\"align: center;\"  src=\"https://github.com/sunworshipper/e29/blob/master/Lecture_3/images/broadcasting.008.jpeg?raw=true\"> </center>"
   ]
  },
  {
   "cell_type": "code",
   "execution_count": 36,
   "metadata": {
    "slideshow": {
     "slide_type": "slide"
    }
   },
   "outputs": [
    {
     "name": "stdout",
     "output_type": "stream",
     "text": [
      "[[[3 3 3]\n",
      "  [3 3 3]\n",
      "  [3 3 3]]\n",
      "\n",
      " [[3 3 3]\n",
      "  [3 3 3]\n",
      "  [3 3 3]]]\n"
     ]
    }
   ],
   "source": [
    "print (a + b)"
   ]
  },
  {
   "cell_type": "markdown",
   "metadata": {
    "slideshow": {
     "slide_type": "slide"
    }
   },
   "source": [
    "<center><img style=\"align: center;\"  src=\"https://github.com/sunworshipper/e29/blob/master/Lecture_3/images/broadcasting.009.jpeg?raw=true\"> </center>"
   ]
  },
  {
   "cell_type": "code",
   "execution_count": 37,
   "metadata": {
    "slideshow": {
     "slide_type": "slide"
    }
   },
   "outputs": [
    {
     "name": "stdout",
     "output_type": "stream",
     "text": [
      "[[1 1 1]\n",
      " [4 5 6]\n",
      " [7 8 9]]\n",
      "[[   1   10  100 1000]]\n",
      "This is a + b\n"
     ]
    },
    {
     "ename": "ValueError",
     "evalue": "operands could not be broadcast together with shapes (3,3) (1,4) ",
     "output_type": "error",
     "traceback": [
      "\u001b[0;31m---------------------------------------------------------------------------\u001b[0m",
      "\u001b[0;31mValueError\u001b[0m                                Traceback (most recent call last)",
      "\u001b[0;32m<ipython-input-37-b419980a74dc>\u001b[0m in \u001b[0;36m<module>\u001b[0;34m()\u001b[0m\n\u001b[1;32m      4\u001b[0m \u001b[0mprint\u001b[0m \u001b[0;34m(\u001b[0m\u001b[0mb\u001b[0m\u001b[0;34m)\u001b[0m\u001b[0;34m\u001b[0m\u001b[0m\n\u001b[1;32m      5\u001b[0m \u001b[0mprint\u001b[0m \u001b[0;34m(\u001b[0m\u001b[0;34m\"This is a + b\"\u001b[0m\u001b[0;34m)\u001b[0m\u001b[0;34m\u001b[0m\u001b[0m\n\u001b[0;32m----> 6\u001b[0;31m \u001b[0mprint\u001b[0m \u001b[0;34m(\u001b[0m\u001b[0ma\u001b[0m\u001b[0;34m+\u001b[0m\u001b[0mb\u001b[0m\u001b[0;34m)\u001b[0m\u001b[0;34m\u001b[0m\u001b[0m\n\u001b[0m",
      "\u001b[0;31mValueError\u001b[0m: operands could not be broadcast together with shapes (3,3) (1,4) "
     ]
    }
   ],
   "source": [
    "a = np.array ([[1,1,1],[4,5,6],[7,8,9]])\n",
    "b = np.array([1,10,100,1000]).reshape(1,4)\n",
    "print (a)\n",
    "print (b)\n",
    "print (\"This is a + b\")\n",
    "print (a+b)"
   ]
  },
  {
   "cell_type": "markdown",
   "metadata": {
    "slideshow": {
     "slide_type": "slide"
    }
   },
   "source": [
    "<p> Credit: Nicolas Rougier </p>\n",
    "<a href=\"https://github.com/rougier\"> Nicolas' amazing github resources </a>\n",
    "<center><img style=\"align: center;\"  src=\"https://github.com/sunworshipper/e29/blob/master/Lecture_3/images/broadcasting_rougier.png?raw=true\"> </center>"
   ]
  },
  {
   "cell_type": "markdown",
   "metadata": {
    "slideshow": {
     "slide_type": "slide"
    }
   },
   "source": [
    "<center><h1 class = \"yellow\"> Acela Not Very Express </h1></center>\n",
    "#### A Broadcasting Example"
   ]
  },
  {
   "cell_type": "markdown",
   "metadata": {
    "slideshow": {
     "slide_type": "slide"
    }
   },
   "source": [
    "<center><img style=\"align: center;\"  src=\"https://github.com/sunworshipper/e29/blob/master/Lecture_3/images/acela.png?raw=true\"> </center>"
   ]
  },
  {
   "cell_type": "code",
   "execution_count": 2,
   "metadata": {
    "slideshow": {
     "slide_type": "slide"
    }
   },
   "outputs": [
    {
     "data": {
      "text/plain": [
       "array([[   0. ,   48.9,  106. ,  136. ,  174. ,  214. ],\n",
       "       [ -48.9,    0. ,   57.1,   87.1,  125.1,  165.1],\n",
       "       [-106. ,  -57.1,    0. ,   30. ,   68. ,  108. ],\n",
       "       [-136. ,  -87.1,  -30. ,    0. ,   38. ,   78. ],\n",
       "       [-174. , -125.1,  -68. ,  -38. ,    0. ,   40. ],\n",
       "       [-214. , -165.1, -108. ,  -78. ,  -40. ,    0. ]])"
      ]
     },
     "execution_count": 2,
     "metadata": {},
     "output_type": "execute_result"
    }
   ],
   "source": [
    "#Acela Express\n",
    "#Major Stops: Boston, Providence, New London, New Haven,Stamford, New York\n",
    "#Credit: Yong Wang\n",
    "#URL: https://github.com/yongtwang/engineering-python/blob/master/13D_NumPy_Array_Broadcasting/13D_NumPy_Array_Broadcasting.ipynb\n",
    "\n",
    "import numpy as np\n",
    "np_acela = np.array([0,48.9,106,136,174,214])\n",
    "\n",
    "distances = np_acela - np_acela.reshape(6,1)\n",
    "distances"
   ]
  },
  {
   "cell_type": "markdown",
   "metadata": {
    "slideshow": {
     "slide_type": "slide"
    }
   },
   "source": [
    "<center><h1 class = \"yellow\"> (5,) vs. (1,5) </h1></center>"
   ]
  },
  {
   "cell_type": "markdown",
   "metadata": {
    "slideshow": {
     "slide_type": "slide"
    }
   },
   "source": [
    "<center><img style=\"align: center;\"  src=\"https://github.com/sunworshipper/e29/blob/master/Lecture_2/images/reshaping.jpeg?raw=true\"> </center>"
   ]
  },
  {
   "cell_type": "code",
   "execution_count": 64,
   "metadata": {
    "slideshow": {
     "slide_type": "slide"
    }
   },
   "outputs": [
    {
     "name": "stdout",
     "output_type": "stream",
     "text": [
      "[3 4 3 6 5]\n",
      "(5,)\n",
      "I have only 1 dimenson.\n",
      "(1, 5)\n",
      "I am now a 2 dimensonal array with 1 row.\n"
     ]
    }
   ],
   "source": [
    "a = np.random.randint(1,10,5)\n",
    "print (a)\n",
    "print (a.shape)\n",
    "print (\"I have only\",a.ndim,\"dimenson.\")\n",
    "a = a.reshape(1,5)\n",
    "print (a.shape)\n",
    "print (\"I am now a\",a.ndim,\"dimensonal array with 1 row.\")\n"
   ]
  },
  {
   "cell_type": "markdown",
   "metadata": {
    "collapsed": true,
    "slideshow": {
     "slide_type": "slide"
    }
   },
   "source": [
    "<center><h1 class = \"yellow\"> Dictionaries and Default Dictionaries </h1></center>\n"
   ]
  },
  {
   "cell_type": "code",
   "execution_count": 47,
   "metadata": {
    "collapsed": true,
    "slideshow": {
     "slide_type": "slide"
    }
   },
   "outputs": [],
   "source": [
    "d = {\"Hello\":1,\"World\":1}"
   ]
  },
  {
   "cell_type": "markdown",
   "metadata": {
    "slideshow": {
     "slide_type": "slide"
    }
   },
   "source": [
    "#### Using the Dictionary get method"
   ]
  },
  {
   "cell_type": "code",
   "execution_count": 49,
   "metadata": {
    "slideshow": {
     "slide_type": "fragment"
    }
   },
   "outputs": [
    {
     "name": "stdout",
     "output_type": "stream",
     "text": [
      "It's not there\n",
      "None\n",
      "{'Hello': 1, 'World': 1, 'Time': 1, 'Space X': 1}\n"
     ]
    },
    {
     "data": {
      "text/plain": [
       "{'Hello': 1, 'Space X': 1, 'Time': 1, 'World': 1}"
      ]
     },
     "execution_count": 49,
     "metadata": {},
     "output_type": "execute_result"
    }
   ],
   "source": [
    "if not d.get(\"Space X\"):\n",
    "    print (\"It's not there\")\n",
    "    d[\"Space X\"] = 1\n",
    "#If the key is not available get returns None\n",
    "#We can use this information\n",
    "print (d.get(\"Hey you\"))\n",
    "print (d)\n",
    "d"
   ]
  },
  {
   "cell_type": "markdown",
   "metadata": {
    "slideshow": {
     "slide_type": "fragment"
    }
   },
   "source": [
    "#### if d.get(val) is None:"
   ]
  },
  {
   "cell_type": "code",
   "execution_count": 50,
   "metadata": {
    "slideshow": {
     "slide_type": "fragment"
    }
   },
   "outputs": [
    {
     "name": "stdout",
     "output_type": "stream",
     "text": [
      "It's not there\n",
      "None\n",
      "{'Hello': 1, 'World': 1, 'Time': 1, 'Space X': 1, 'Falcon': 1}\n"
     ]
    },
    {
     "data": {
      "text/plain": [
       "{'Falcon': 1, 'Hello': 1, 'Space X': 1, 'Time': 1, 'World': 1}"
      ]
     },
     "execution_count": 50,
     "metadata": {},
     "output_type": "execute_result"
    }
   ],
   "source": [
    "#remember this is the same as if not d.get(\"Falcon\")\n",
    "if d.get(\"Falcon\") is None:\n",
    "    print (\"It's not there\")\n",
    "    d[\"Falcon\"] = 1\n",
    "#If the key is not available get returns None\n",
    "#We can use this information\n",
    "print (d.get(\"Hey you\"))\n",
    "print (d)\n",
    "d"
   ]
  },
  {
   "cell_type": "markdown",
   "metadata": {
    "slideshow": {
     "slide_type": "fragment"
    }
   },
   "source": [
    "#### Using try and except"
   ]
  },
  {
   "cell_type": "code",
   "execution_count": 70,
   "metadata": {
    "slideshow": {
     "slide_type": "fragment"
    }
   },
   "outputs": [
    {
     "name": "stdout",
     "output_type": "stream",
     "text": [
      "Wasn't there so I'll add it\n",
      "No matter what I print!\n",
      "{'Hello': 1, 'World': 1, 'Time': 1, 'Space X': 1, 'Falcon': 1, 'NEW': 1}\n"
     ]
    }
   ],
   "source": [
    "try:\n",
    "    d[\"New_Key\"]\n",
    "except:\n",
    "    print (\"Wasn't there so I'll add it\")\n",
    "    d[\"NEW\"] = 1\n",
    "finally:\n",
    "    print (\"No matter what I print!\")\n",
    "print (d)"
   ]
  },
  {
   "cell_type": "markdown",
   "metadata": {
    "slideshow": {
     "slide_type": "fragment"
    }
   },
   "source": [
    "#### Using the defaultdict"
   ]
  },
  {
   "cell_type": "code",
   "execution_count": 83,
   "metadata": {
    "slideshow": {
     "slide_type": "fragment"
    }
   },
   "outputs": [],
   "source": [
    "from collections import defaultdict\n",
    "d = defaultdict(lambda:0)\n",
    "l = [(1,2,3),(1,2,3),(1,),(1,),(5,6,7),(5,6,7),(5,6,7)]"
   ]
  },
  {
   "cell_type": "markdown",
   "metadata": {
    "slideshow": {
     "slide_type": "fragment"
    }
   },
   "source": [
    "#### Goal: Count the number of times a tuple appears in a list of tuples"
   ]
  },
  {
   "cell_type": "code",
   "execution_count": 82,
   "metadata": {
    "slideshow": {
     "slide_type": "fragment"
    }
   },
   "outputs": [
    {
     "name": "stdout",
     "output_type": "stream",
     "text": [
      "defaultdict(<function <lambda> at 0x11110a510>, {(1, 2, 3): 3, (1,): 3, (5, 6, 7): 4})\n"
     ]
    }
   ],
   "source": [
    "for tup in l:\n",
    "    d[tup]+=1\n",
    "print (d)"
   ]
  },
  {
   "cell_type": "markdown",
   "metadata": {
    "slideshow": {
     "slide_type": "slide"
    }
   },
   "source": [
    "#### You may encounter defaultdict initialization with a type"
   ]
  },
  {
   "cell_type": "code",
   "execution_count": 87,
   "metadata": {
    "slideshow": {
     "slide_type": "fragment"
    }
   },
   "outputs": [
    {
     "name": "stdout",
     "output_type": "stream",
     "text": [
      "defaultdict(<class 'float'>, {(1, 2, 3): 2.0, (1,): 2.0, (5, 6, 7): 3.0})\n"
     ]
    }
   ],
   "source": [
    "from collections import defaultdict\n",
    "d = defaultdict(float)\n",
    "#in this case default is 0.\n",
    "#try it with int\n",
    "l = [(1,2,3),(1,2,3),(1,),(1,),(5,6,7),(5,6,7),(5,6,7)]\n",
    "for tup in l:\n",
    "    d[tup]+=1\n",
    "print (d)"
   ]
  },
  {
   "cell_type": "markdown",
   "metadata": {
    "slideshow": {
     "slide_type": "slide"
    }
   },
   "source": [
    "#### Counter objects"
   ]
  },
  {
   "cell_type": "code",
   "execution_count": 88,
   "metadata": {
    "slideshow": {
     "slide_type": "fragment"
    }
   },
   "outputs": [
    {
     "name": "stdout",
     "output_type": "stream",
     "text": [
      "Counter({(5, 6, 7): 3, (1, 2, 3): 2, (1,): 2})\n"
     ]
    }
   ],
   "source": [
    "from collections import Counter\n",
    "c = Counter(l)\n",
    "print (c)"
   ]
  },
  {
   "cell_type": "markdown",
   "metadata": {
    "slideshow": {
     "slide_type": "slide"
    }
   },
   "source": [
    "#### Counter objects and numpy"
   ]
  },
  {
   "cell_type": "code",
   "execution_count": 107,
   "metadata": {
    "slideshow": {
     "slide_type": "fragment"
    }
   },
   "outputs": [
    {
     "name": "stdout",
     "output_type": "stream",
     "text": [
      "Counter({85: 2, 7: 1, 82: 1, 76: 1, 18: 1, 4: 1, 79: 1, 22: 1, 32: 1})\n"
     ]
    }
   ],
   "source": [
    "a = np.random.randint(1,101,10)\n",
    "c = Counter(a)\n",
    "print (c)"
   ]
  },
  {
   "cell_type": "markdown",
   "metadata": {
    "slideshow": {
     "slide_type": "slide"
    }
   },
   "source": [
    "#### Visualizations of Counter objects"
   ]
  },
  {
   "cell_type": "code",
   "execution_count": 118,
   "metadata": {
    "slideshow": {
     "slide_type": "fragment"
    }
   },
   "outputs": [
    {
     "data": {
      "image/png": "[encoded data removed]",
      "text/plain": [
       "<matplotlib.figure.Figure at 0x11abe4320>"
      ]
     },
     "metadata": {},
     "output_type": "display_data"
    }
   ],
   "source": [
    "%matplotlib inline\n",
    "import matplotlib.pyplot as plt\n",
    "\n",
    "labels, values = zip(*c.items())\n",
    "indexes = np.arange(len(labels))\n",
    "width = 0.5\n",
    "\n",
    "plt.bar(indexes, values, width)\n",
    "plt.xticks(indexes + width *  0.05, labels)\n",
    "plt.show()"
   ]
  },
  {
   "cell_type": "markdown",
   "metadata": {
    "collapsed": true,
    "slideshow": {
     "slide_type": "fragment"
    }
   },
   "source": [
    "<center><h1 class = \"yellow\"> The nuances of if something </h1></center>"
   ]
  },
  {
   "cell_type": "code",
   "execution_count": 55,
   "metadata": {
    "slideshow": {
     "slide_type": "slide"
    }
   },
   "outputs": [
    {
     "name": "stdout",
     "output_type": "stream",
     "text": [
      "That means it's TRUE...print time!\n",
      "My head is spinning, but I will print!\n"
     ]
    }
   ],
   "source": [
    "#The nuances of if something\n",
    "\n",
    "if False:\n",
    "    print(\"Hey I will not print anything!\")\n",
    "    \n",
    "if None:\n",
    "    print (\"Hey I will also not print anything!\")\n",
    "    \n",
    "if not False:\n",
    "    print (\"That means it's TRUE...print time!\")\n",
    "    \n",
    "if not None:\n",
    "    print (\"My head is spinning, but I will print!\")\n",
    "    "
   ]
  },
  {
   "cell_type": "markdown",
   "metadata": {
    "collapsed": true,
    "slideshow": {
     "slide_type": "fragment"
    }
   },
   "source": [
    "<center><h1 class = \"yellow\"> Fancier array slicing </h1></center>\n"
   ]
  },
  {
   "cell_type": "markdown",
   "metadata": {
    "slideshow": {
     "slide_type": "slide"
    }
   },
   "source": [
    "<p> Credit: Nicolas Rougier </p>\n",
    "<a href=\"https://github.com/rougier\"> Nicolas' amazing github resources </a>\n",
    "<center><img style=\"align: center;\"  src=\"https://github.com/sunworshipper/e29/blob/master/Lecture_3/images/slicing_rougier.png?raw=true\"> </center>"
   ]
  },
  {
   "cell_type": "markdown",
   "metadata": {
    "slideshow": {
     "slide_type": "slide"
    }
   },
   "source": [
    "\n",
    "#### Using those negative values to your advantage"
   ]
  },
  {
   "cell_type": "code",
   "execution_count": 123,
   "metadata": {
    "slideshow": {
     "slide_type": "fragment"
    }
   },
   "outputs": [
    {
     "name": "stdout",
     "output_type": "stream",
     "text": [
      "[[9 7 1]\n",
      " [4 8 5]\n",
      " [5 7 5]]\n",
      "[[5 7 5]\n",
      " [4 8 5]\n",
      " [9 7 1]]\n"
     ]
    }
   ],
   "source": [
    "#reversing the row order\n",
    "a = np.random.randint(1,10,(3,3))\n",
    "print (a)\n",
    "a = a[::-1,:]\n",
    "print (a)"
   ]
  },
  {
   "cell_type": "code",
   "execution_count": 125,
   "metadata": {
    "slideshow": {
     "slide_type": "fragment"
    }
   },
   "outputs": [
    {
     "name": "stdout",
     "output_type": "stream",
     "text": [
      "[[7 1 8]\n",
      " [1 9 5]\n",
      " [3 5 9]]\n",
      "[[8 1 7]\n",
      " [5 9 1]\n",
      " [9 5 3]]\n"
     ]
    }
   ],
   "source": [
    "#reversing the column order\n",
    "a = np.random.randint(1,10,(3,3))\n",
    "print (a)\n",
    "a = a[:,::-1]\n",
    "print (a)"
   ]
  },
  {
   "cell_type": "markdown",
   "metadata": {
    "collapsed": true,
    "slideshow": {
     "slide_type": "slide"
    }
   },
   "source": [
    "<center><h1 class = \"yellow\"> Array Concatenation</h1></center>\n"
   ]
  },
  {
   "cell_type": "code",
   "execution_count": 134,
   "metadata": {
    "slideshow": {
     "slide_type": "slide"
    }
   },
   "outputs": [
    {
     "name": "stdout",
     "output_type": "stream",
     "text": [
      "Adds along the first axis\n",
      "[[1 1 6]\n",
      " [2 8 6]\n",
      " [7 2 4]\n",
      " [1 5 3]\n",
      " [7 3 2]\n",
      " [8 4 3]\n",
      " [8 4 2]\n",
      " [6 5 7]\n",
      " [9 9 6]]\n",
      "Adds along the second axis\n",
      "[[1 1 6 1 5 3 8 4 2]\n",
      " [2 8 6 7 3 2 6 5 7]\n",
      " [7 2 4 8 4 3 9 9 6]]\n"
     ]
    }
   ],
   "source": [
    "a = np.random.randint(1,10,(3,3))\n",
    "b = np.random.randint(1,10,(3,3))\n",
    "c = np.random.randint(1,10,(3,3))\n",
    "add_rows = np.concatenate([a,b,c], axis = 0)\n",
    "add_columns = np.concatenate([a,b,c], axis = 1)\n",
    "print (\"Adds along the first axis\")\n",
    "print (add_rows)\n",
    "print (\"Adds along the second axis\")\n",
    "print (add_columns)"
   ]
  },
  {
   "cell_type": "markdown",
   "metadata": {
    "slideshow": {
     "slide_type": "slide"
    }
   },
   "source": [
    "\n",
    "#### Understanding np.vstack and np.hstack via shape"
   ]
  },
  {
   "cell_type": "code",
   "execution_count": 137,
   "metadata": {
    "slideshow": {
     "slide_type": "slide"
    }
   },
   "outputs": [
    {
     "name": "stdout",
     "output_type": "stream",
     "text": [
      "(3, 3) (3, 3) (6, 3)\n",
      "[[2 2 3]\n",
      " [8 8 4]\n",
      " [2 9 2]\n",
      " [6 5 1]\n",
      " [4 6 3]\n",
      " [5 6 2]]\n"
     ]
    }
   ],
   "source": [
    "#np.vstack concatenates along the first dimension\n",
    "a = np.random.randint(1,10,(3,3))\n",
    "b = np.random.randint(1,10,(3,3))\n",
    "add_rows = np.vstack([a,b])\n",
    "print (a.shape,b.shape,add_rows.shape)\n",
    "print (add_rows)"
   ]
  },
  {
   "cell_type": "code",
   "execution_count": 138,
   "metadata": {
    "slideshow": {
     "slide_type": "slide"
    }
   },
   "outputs": [
    {
     "name": "stdout",
     "output_type": "stream",
     "text": [
      "(3, 3) (3, 3) (3, 6)\n",
      "[[2 7 4 3 8 3]\n",
      " [4 6 8 9 3 2]\n",
      " [1 9 3 9 2 4]]\n"
     ]
    }
   ],
   "source": [
    "#np.hstack concatenates along the second dimension\n",
    "a = np.random.randint(1,10,(3,3))\n",
    "b = np.random.randint(1,10,(3,3))\n",
    "add_rows = np.hstack([a,b])\n",
    "print (a.shape,b.shape,add_rows.shape)\n",
    "print (add_rows)"
   ]
  },
  {
   "cell_type": "markdown",
   "metadata": {
    "slideshow": {
     "slide_type": "slide"
    }
   },
   "source": [
    "\n",
    "#### Concatenating in the 3d dimension with np.dstack"
   ]
  },
  {
   "cell_type": "code",
   "execution_count": 150,
   "metadata": {},
   "outputs": [
    {
     "name": "stdout",
     "output_type": "stream",
     "text": [
      "[[[3 3 9]\n",
      "  [6 2 9]\n",
      "  [9 6 5]]\n",
      "\n",
      " [[2 8 9]\n",
      "  [9 1 2]\n",
      "  [2 5 6]]]\n",
      "[[[2 8 9]\n",
      "  [6 4 5]\n",
      "  [4 7 6]]\n",
      "\n",
      " [[7 4 3]\n",
      "  [3 8 3]\n",
      "  [4 2 2]]]\n"
     ]
    },
    {
     "data": {
      "text/plain": [
       "array([[[3, 3, 9, 2, 8, 9],\n",
       "        [6, 2, 9, 6, 4, 5],\n",
       "        [9, 6, 5, 4, 7, 6]],\n",
       "\n",
       "       [[2, 8, 9, 7, 4, 3],\n",
       "        [9, 1, 2, 3, 8, 3],\n",
       "        [2, 5, 6, 4, 2, 2]]])"
      ]
     },
     "execution_count": 150,
     "metadata": {},
     "output_type": "execute_result"
    }
   ],
   "source": [
    "a = np.random.randint(1,10,(2,3,3))\n",
    "print (a)\n",
    "b = np.random.randint(1,10,(2,3,3))\n",
    "print (b)\n",
    "c = np.dstack((a,b))\n",
    "c"
   ]
  },
  {
   "cell_type": "code",
   "execution_count": 151,
   "metadata": {
    "slideshow": {
     "slide_type": "slide"
    }
   },
   "outputs": [
    {
     "data": {
      "text/plain": [
       "array([[[3, 3, 9, 2, 8, 9],\n",
       "        [6, 2, 9, 6, 4, 5],\n",
       "        [9, 6, 5, 4, 7, 6]],\n",
       "\n",
       "       [[2, 8, 9, 7, 4, 3],\n",
       "        [9, 1, 2, 3, 8, 3],\n",
       "        [2, 5, 6, 4, 2, 2]]])"
      ]
     },
     "execution_count": 151,
     "metadata": {},
     "output_type": "execute_result"
    }
   ],
   "source": [
    "#This is equivalent to dstack\n",
    "d = np.concatenate((a,b), axis=2)\n",
    "d"
   ]
  },
  {
   "cell_type": "markdown",
   "metadata": {
    "collapsed": true,
    "slideshow": {
     "slide_type": "slide"
    }
   },
   "source": [
    "<center><h1 class = \"yellow\"> Array Splitting</h1></center>\n"
   ]
  },
  {
   "cell_type": "code",
   "execution_count": 160,
   "metadata": {
    "slideshow": {
     "slide_type": "slide"
    }
   },
   "outputs": [
    {
     "name": "stdout",
     "output_type": "stream",
     "text": [
      "[[[3 3 9]\n",
      "  [6 2 9]\n",
      "  [9 6 5]]\n",
      "\n",
      " [[2 8 9]\n",
      "  [9 1 2]\n",
      "  [2 5 6]]]\n",
      "[[[2 8 9]\n",
      "  [6 4 5]\n",
      "  [4 7 6]]\n",
      "\n",
      " [[7 4 3]\n",
      "  [3 8 3]\n",
      "  [4 2 2]]]\n"
     ]
    }
   ],
   "source": [
    "#3rd dimension split with np.dsplit\n",
    "a, b = np.dsplit(c,2)\n",
    "print (a)\n",
    "print (b)"
   ]
  },
  {
   "cell_type": "markdown",
   "metadata": {
    "slideshow": {
     "slide_type": "slide"
    }
   },
   "source": [
    "\n",
    "#### Splitting across by columns with hsplit"
   ]
  },
  {
   "cell_type": "code",
   "execution_count": 173,
   "metadata": {
    "slideshow": {
     "slide_type": "fragment"
    }
   },
   "outputs": [
    {
     "name": "stdout",
     "output_type": "stream",
     "text": [
      "[[ 0.58414713  0.58368929  0.82878891  0.33305881]\n",
      " [ 0.61461069  0.63821536  0.35184661  0.03594537]\n",
      " [ 0.88766653  0.21151425  0.69008534  0.67643798]]\n",
      "The first two columns\n",
      "[[ 0.58414713  0.58368929]\n",
      " [ 0.61461069  0.63821536]\n",
      " [ 0.88766653  0.21151425]]\n",
      "The last two columns\n",
      "[[ 0.82878891  0.33305881]\n",
      " [ 0.35184661  0.03594537]\n",
      " [ 0.69008534  0.67643798]]\n"
     ]
    }
   ],
   "source": [
    "a = np.random.random(12).reshape(3,4)\n",
    "print (a)\n",
    "#let's grab the first 2 columns\n",
    "first_two_cols,last_two_cols = np.hsplit(a,[2])\n",
    "print (\"The first two columns\")\n",
    "print (first_two_cols)\n",
    "print (\"The last two columns\")\n",
    "print (last_two_cols)"
   ]
  },
  {
   "cell_type": "markdown",
   "metadata": {
    "slideshow": {
     "slide_type": "slide"
    }
   },
   "source": [
    "\n",
    "#### Splitting across by rows with vsplit\n"
   ]
  },
  {
   "cell_type": "code",
   "execution_count": 177,
   "metadata": {
    "slideshow": {
     "slide_type": "fragment"
    }
   },
   "outputs": [
    {
     "name": "stdout",
     "output_type": "stream",
     "text": [
      "[[ 0.58414713  0.58368929  0.82878891  0.33305881]\n",
      " [ 0.61461069  0.63821536  0.35184661  0.03594537]\n",
      " [ 0.88766653  0.21151425  0.69008534  0.67643798]]\n",
      "First Row\n",
      "[[ 0.58414713  0.58368929  0.82878891  0.33305881]]\n",
      "Second Row\n",
      "[[ 0.61461069  0.63821536  0.35184661  0.03594537]]\n",
      "Third Row\n",
      "[[ 0.88766653  0.21151425  0.69008534  0.67643798]]\n"
     ]
    }
   ],
   "source": [
    "first_row, second_row,third_row = np.vsplit(a,[1,2])\n",
    "print (a)\n",
    "print (\"First Row\")\n",
    "print (first_row)\n",
    "print (\"Second Row\")\n",
    "print (second_row)\n",
    "print (\"Third Row\")\n",
    "print (third_row)"
   ]
  },
  {
   "cell_type": "markdown",
   "metadata": {
    "collapsed": true,
    "slideshow": {
     "slide_type": "slide"
    }
   },
   "source": [
    "<center><h1 class = \"yellow\"> Boolean Masks and Fancy Indexing</h1></center>"
   ]
  },
  {
   "cell_type": "code",
   "execution_count": 180,
   "metadata": {
    "slideshow": {
     "slide_type": "fragment"
    }
   },
   "outputs": [
    {
     "name": "stdout",
     "output_type": "stream",
     "text": [
      "[False False False  True  True  True  True]\n",
      "[0 1 2 3]\n"
     ]
    }
   ],
   "source": [
    "a = np.array([-3,-2,-1,0,1,2,3]) \n",
    "mask = (x >= 0) \n",
    "print (mask)\n",
    "b = a[mask]\n",
    "print (b)\n"
   ]
  },
  {
   "cell_type": "code",
   "execution_count": 185,
   "metadata": {
    "slideshow": {
     "slide_type": "fragment"
    }
   },
   "outputs": [
    {
     "name": "stdout",
     "output_type": "stream",
     "text": [
      "4\n",
      "6\n"
     ]
    }
   ],
   "source": [
    "#This may confuse you but keep in mind that True is 1 and False is 0\n",
    "print (np.count_nonzero(mask))\n",
    "print (np.count_nonzero(a))"
   ]
  },
  {
   "cell_type": "markdown",
   "metadata": {
    "slideshow": {
     "slide_type": "slide"
    }
   },
   "source": [
    "\n",
    "#### How many values are larger than 5 in each column\n"
   ]
  },
  {
   "cell_type": "code",
   "execution_count": 189,
   "metadata": {
    "slideshow": {
     "slide_type": "fragment"
    }
   },
   "outputs": [
    {
     "name": "stdout",
     "output_type": "stream",
     "text": [
      "[[6 2 5]\n",
      " [1 5 9]\n",
      " [4 1 7]]\n",
      "[[ True False False]\n",
      " [False False  True]\n",
      " [False False  True]]\n"
     ]
    }
   ],
   "source": [
    "a = np.random.randint(1,10,(3,3))\n",
    "print (a)\n",
    "np.sum(a > 5, axis=0)\n",
    "print (a>5)"
   ]
  },
  {
   "cell_type": "markdown",
   "metadata": {
    "slideshow": {
     "slide_type": "slide"
    }
   },
   "source": [
    "\n",
    "#### Any or All\n"
   ]
  },
  {
   "cell_type": "code",
   "execution_count": 212,
   "metadata": {
    "slideshow": {
     "slide_type": "fragment"
    }
   },
   "outputs": [
    {
     "name": "stdout",
     "output_type": "stream",
     "text": [
      "[[8 5 5]\n",
      " [7 7 6]\n",
      " [5 2 8]]\n",
      "True\n",
      "True\n"
     ]
    }
   ],
   "source": [
    "a = np.random.randint(1,10,(3,3))\n",
    "print (a)\n",
    "print (np.any(a > 3))\n",
    "print (np.all(a > 0))\n"
   ]
  },
  {
   "cell_type": "markdown",
   "metadata": {
    "slideshow": {
     "slide_type": "slide"
    }
   },
   "source": [
    "\n",
    "#### Indexing with an int array\n"
   ]
  },
  {
   "cell_type": "code",
   "execution_count": 238,
   "metadata": {
    "slideshow": {
     "slide_type": "fragment"
    }
   },
   "outputs": [
    {
     "name": "stdout",
     "output_type": "stream",
     "text": [
      "[[2 7 7 2 4 2 6 9 7 1]]\n",
      "[2 2 2 7 2 7]\n"
     ]
    }
   ],
   "source": [
    "a = np.random.randint(1,10,(1,10))\n",
    "print (a)\n",
    "selections = np.array([0, 0, 0, 1, 0, 1])\n",
    "print (a[0,selections])"
   ]
  },
  {
   "cell_type": "markdown",
   "metadata": {
    "slideshow": {
     "slide_type": "slide"
    }
   },
   "source": [
    "\n",
    "#### or and | & ? (Comparing array elements? Use | &)\n"
   ]
  },
  {
   "cell_type": "code",
   "execution_count": 203,
   "metadata": {
    "slideshow": {
     "slide_type": "fragment"
    }
   },
   "outputs": [
    {
     "name": "stdout",
     "output_type": "stream",
     "text": [
      "[[0 0 0]\n",
      " [0 0 0]\n",
      " [0 0 0]]\n",
      "[[1 1 1]\n",
      " [1 1 1]\n",
      " [1 1 1]]\n"
     ]
    }
   ],
   "source": [
    "a = np.ones((3,3),dtype = int)\n",
    "b = np.zeros((3,3),dtype = int)\n",
    "print (a & b)\n",
    "#print (a and b)\n",
    "print (a | b)"
   ]
  },
  {
   "cell_type": "markdown",
   "metadata": {
    "collapsed": true,
    "slideshow": {
     "slide_type": "slide"
    }
   },
   "source": [
    "<center><h1 class = \"yellow\"> Sorting Arrays </h1></center>"
   ]
  },
  {
   "cell_type": "markdown",
   "metadata": {
    "slideshow": {
     "slide_type": "slide"
    }
   },
   "source": [
    "#### How do we sort python lists?"
   ]
  },
  {
   "cell_type": "code",
   "execution_count": 226,
   "metadata": {
    "slideshow": {
     "slide_type": "slide"
    }
   },
   "outputs": [
    {
     "name": "stdout",
     "output_type": "stream",
     "text": [
      "[10, 9, 8, 7, 6, 5, 4, 3, 2, 1]\n",
      "[1, 2, 3, 4, 5, 6, 7, 8, 9, 10]\n"
     ]
    }
   ],
   "source": [
    "my_original_list = [10,9,8,7,6,5,4,3,2,1]\n",
    "#note that sorted returns a copy of the sorted list\n",
    "my_new_list = sorted(my_original_list)\n",
    "print (my_original_list) #note that it didn't get changed.\n",
    "print (my_new_list)"
   ]
  },
  {
   "cell_type": "code",
   "execution_count": 227,
   "metadata": {
    "slideshow": {
     "slide_type": "fragment"
    }
   },
   "outputs": [
    {
     "name": "stdout",
     "output_type": "stream",
     "text": [
      "[1, 2, 3, 4, 5, 6, 7, 8, 9, 10]\n"
     ]
    }
   ],
   "source": [
    "my_original_list = [10,9,8,7,6,5,4,3,2,1]\n",
    "#note that sort mutates the original list\n",
    "my_original_list.sort()\n",
    "print (my_original_list) #note that we sorted it in place"
   ]
  },
  {
   "cell_type": "code",
   "execution_count": 228,
   "metadata": {
    "slideshow": {
     "slide_type": "fragment"
    }
   },
   "outputs": [
    {
     "name": "stdout",
     "output_type": "stream",
     "text": [
      "None\n"
     ]
    }
   ],
   "source": [
    "my_list = [10,9,8,7,6,5,4,3,2,1]\n",
    "my_list = my_list.sort()\n",
    "#note that .sort() returns None\n",
    "#it sorts in place so it doesn't return you a copy of a list\n",
    "print (my_list)"
   ]
  },
  {
   "cell_type": "markdown",
   "metadata": {
    "slideshow": {
     "slide_type": "slide"
    }
   },
   "source": [
    "#### Which one is faster? sort() or sorted() ?\n",
    "#### More on sorting in e7 lecture 6 Keynote"
   ]
  },
  {
   "cell_type": "markdown",
   "metadata": {
    "slideshow": {
     "slide_type": "slide"
    }
   },
   "source": [
    "#### Sorting arrays np.sort() vs a.sort()"
   ]
  },
  {
   "cell_type": "code",
   "execution_count": 241,
   "metadata": {
    "slideshow": {
     "slide_type": "fragment"
    }
   },
   "outputs": [
    {
     "name": "stdout",
     "output_type": "stream",
     "text": [
      "[1 2 3 4 5]\n",
      "[5 4 3 2 1]\n"
     ]
    }
   ],
   "source": [
    "a = np.array([5,4,3,2,1])\n",
    "#Does it sort in place?\n",
    "b = np.sort(a)\n",
    "print (b)\n",
    "print (a)"
   ]
  },
  {
   "cell_type": "code",
   "execution_count": 242,
   "metadata": {
    "slideshow": {
     "slide_type": "fragment"
    }
   },
   "outputs": [
    {
     "name": "stdout",
     "output_type": "stream",
     "text": [
      "[1 2 3 4 5]\n"
     ]
    }
   ],
   "source": [
    "a = np.array([5,4,3,2,1])\n",
    "#Does it sort in place? Yes!\n",
    "a.sort()\n",
    "print (a)"
   ]
  },
  {
   "cell_type": "markdown",
   "metadata": {
    "slideshow": {
     "slide_type": "slide"
    }
   },
   "source": [
    "#### Sorting across axes"
   ]
  },
  {
   "cell_type": "code",
   "execution_count": 217,
   "metadata": {
    "slideshow": {
     "slide_type": "slide"
    }
   },
   "outputs": [
    {
     "name": "stdout",
     "output_type": "stream",
     "text": [
      "[[4 4 9]\n",
      " [8 5 5]\n",
      " [1 8 7]]\n",
      "[[1 4 5]\n",
      " [4 5 7]\n",
      " [8 8 9]]\n",
      "[[4 4 9]\n",
      " [5 5 8]\n",
      " [1 7 8]]\n"
     ]
    }
   ],
   "source": [
    "a = np.random.randint(1,10,(3,3))\n",
    "print (a)\n",
    "b = np.sort(a, axis = 0)\n",
    "print (b)\n",
    "c = np.sort(a, axis = 1)\n",
    "print (c)"
   ]
  },
  {
   "cell_type": "markdown",
   "metadata": {
    "slideshow": {
     "slide_type": "slide"
    }
   },
   "source": [
    "#### Another type of sorting via np.argsort()"
   ]
  },
  {
   "cell_type": "code",
   "execution_count": 245,
   "metadata": {
    "slideshow": {
     "slide_type": "fragment"
    }
   },
   "outputs": [
    {
     "name": "stdout",
     "output_type": "stream",
     "text": [
      "[4 3 2 1 0]\n",
      "[5 4 3 2 1]\n",
      "[1 2 3 4 5]\n"
     ]
    }
   ],
   "source": [
    "a = np.array([5,4,3,2,1])\n",
    "i = np.argsort(a)\n",
    "print (i)\n",
    "print (a)\n",
    "#we can use argsort idices for fancy indexing on this array or another\n",
    "c = a[i]\n",
    "print (c)"
   ]
  },
  {
   "cell_type": "markdown",
   "metadata": {
    "collapsed": true,
    "slideshow": {
     "slide_type": "slide"
    }
   },
   "source": [
    "<center><h1 class = \"yellow\"> Assertion </h1></center>"
   ]
  },
  {
   "cell_type": "code",
   "execution_count": 208,
   "metadata": {
    "slideshow": {
     "slide_type": "fragment"
    }
   },
   "outputs": [
    {
     "data": {
      "text/plain": [
       "5.0"
      ]
     },
     "execution_count": 208,
     "metadata": {},
     "output_type": "execute_result"
    }
   ],
   "source": [
    "def division (x,y):\n",
    "    assert y != 0, \"Hey you are trying to do Zero Division. I am putting the breaks on!\"\n",
    "    return x / y\n",
    "\n",
    "division(5,1)"
   ]
  },
  {
   "cell_type": "markdown",
   "metadata": {
    "slideshow": {
     "slide_type": "slide"
    }
   },
   "source": [
    "#### Are assertions used for recoverable or unrecoverable errors?"
   ]
  },
  {
   "cell_type": "markdown",
   "metadata": {
    "collapsed": true,
    "slideshow": {
     "slide_type": "slide"
    }
   },
   "source": [
    "<center><h1 class = \"yellow\"> Big O Notation </h1></center>\n",
    "<center><h3 class = \"yellow\"> Algorithms and their performance and complexity </h3></center>"
   ]
  },
  {
   "cell_type": "markdown",
   "metadata": {
    "slideshow": {
     "slide_type": "slide"
    }
   },
   "source": [
    "<p class = \"red\"> If you are familiar with this problem please do not participate</p>\n",
    "<h3>You are given 2 eggs of limited supernatural strength and access to a 100 floor building. </h3>\n",
    "<h4> Goal: Your goal is to determine what is the highest floor from where you can drop an egg and the egg does not break. </h4>"
   ]
  },
  {
   "cell_type": "markdown",
   "metadata": {
    "collapsed": true,
    "slideshow": {
     "slide_type": "fragment"
    }
   },
   "source": [
    "<center><h1 class = \"blue\"> Thank you! </h1></center>"
   ]
  }
 ],
 "metadata": {
  "celltoolbar": "Slideshow",
  "kernelspec": {
   "display_name": "Python 3",
   "language": "python",
   "name": "python3"
  },
  "language_info": {
   "codemirror_mode": {
    "name": "ipython",
    "version": 3
   },
   "file_extension": ".py",
   "mimetype": "text/x-python",
   "name": "python",
   "nbconvert_exporter": "python",
   "pygments_lexer": "ipython3",
   "version": "3.6.3"
  },
  "livereveal": {
   "scroll": true,
   "start_slideshow_at": "selected",
   "transition": "zoom"
  }
 },
 "nbformat": 4,
 "nbformat_minor": 2
}
